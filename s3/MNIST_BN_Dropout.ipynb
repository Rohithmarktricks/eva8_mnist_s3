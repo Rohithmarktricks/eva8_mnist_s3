{
 "cells": [
  {
   "cell_type": "code",
   "execution_count": 1,
   "id": "1d77f27d",
   "metadata": {},
   "outputs": [],
   "source": [
    "from __future__ import print_function\n",
    "import torch\n",
    "import torch.nn as nn\n",
    "import torch.nn.functional as F\n",
    "import torch.optim as optim\n",
    "from torchvision import datasets, transforms\n",
    "from torchsummary import summary"
   ]
  },
  {
   "cell_type": "code",
   "execution_count": 2,
   "id": "2ed74c49",
   "metadata": {},
   "outputs": [],
   "source": [
    "use_cuda = torch.cuda.is_available()\n",
    "device = torch.device(\"cuda\" if use_cuda else \"cpu\")"
   ]
  },
  {
   "cell_type": "code",
   "execution_count": 3,
   "id": "362fc9e8",
   "metadata": {},
   "outputs": [],
   "source": [
    "\n",
    "\n",
    "torch.manual_seed(1)\n",
    "batch_size = 128\n",
    "\n",
    "kwargs = {'num_workers': 1, 'pin_memory': True} if use_cuda else {}\n",
    "train_loader = torch.utils.data.DataLoader(\n",
    "    datasets.MNIST('../data', train=True, download=True,\n",
    "                    transform=transforms.Compose([\n",
    "                        transforms.ToTensor(),\n",
    "                        transforms.Normalize((0.1307,), (0.3081,))\n",
    "                    ])),\n",
    "    batch_size=batch_size, shuffle=True, **kwargs)\n",
    "test_loader = torch.utils.data.DataLoader(\n",
    "    datasets.MNIST('../data', train=False, transform=transforms.Compose([\n",
    "                        transforms.ToTensor(),\n",
    "                        transforms.Normalize((0.1307,), (0.3081,))\n",
    "                    ])),\n",
    "    batch_size=batch_size, shuffle=True, **kwargs)\n"
   ]
  },
  {
   "cell_type": "code",
   "execution_count": 4,
   "id": "7a99e1b9",
   "metadata": {},
   "outputs": [],
   "source": [
    "class Model(nn.Module):\n",
    "    def __init__(self):\n",
    "        super(Model, self).__init__()\n",
    "        \n",
    "        self.conv1 = nn.Sequential(\n",
    "            nn.Conv2d(1, 64, 3, padding=1),\n",
    "            nn.ReLU(),\n",
    "            nn.MaxPool2d(2, 2),\n",
    "            nn.Conv2d(64, 32, 1, padding=1),\n",
    "            nn.BatchNorm2d(32),\n",
    "            nn.MaxPool2d(2, 2),\n",
    "            nn.Conv2d(32, 32, 3, padding=1),\n",
    "            nn.ReLU(),\n",
    "            nn.BatchNorm2d(32),\n",
    "            nn.Conv2d(32, 16, 1, padding=1),\n",
    "            nn.Conv2d(16, 8, 3, padding=1)\n",
    "        ) #output : 14x14x32\n",
    "    \n",
    "        self.fc = nn.Sequential(\n",
    "#             nn.Linear(8, 16),\n",
    "            nn.Dropout(0.1),\n",
    "            nn.Linear(8, 10) \n",
    "        )\n",
    "                \n",
    "        \n",
    "    def forward(self, x):\n",
    "        x = self.conv1(x)\n",
    "        x = nn.AvgPool2d(7)(x)\n",
    "        x = torch.squeeze(x)\n",
    "        x = torch.squeeze(x)\n",
    "        x = self.fc(x)\n",
    "        \n",
    "        x = F.log_softmax(x, dim=1)\n",
    "        return x\n"
   ]
  },
  {
   "cell_type": "code",
   "execution_count": 5,
   "id": "850ce0ef",
   "metadata": {},
   "outputs": [
    {
     "name": "stdout",
     "output_type": "stream",
     "text": [
      "----------------------------------------------------------------\n",
      "        Layer (type)               Output Shape         Param #\n",
      "================================================================\n",
      "            Conv2d-1           [-1, 64, 28, 28]             640\n",
      "              ReLU-2           [-1, 64, 28, 28]               0\n",
      "         MaxPool2d-3           [-1, 64, 14, 14]               0\n",
      "            Conv2d-4           [-1, 32, 16, 16]           2,080\n",
      "       BatchNorm2d-5           [-1, 32, 16, 16]              64\n",
      "         MaxPool2d-6             [-1, 32, 8, 8]               0\n",
      "            Conv2d-7             [-1, 32, 8, 8]           9,248\n",
      "              ReLU-8             [-1, 32, 8, 8]               0\n",
      "       BatchNorm2d-9             [-1, 32, 8, 8]              64\n",
      "           Conv2d-10           [-1, 16, 10, 10]             528\n",
      "           Conv2d-11            [-1, 8, 10, 10]           1,160\n",
      "          Dropout-12                    [-1, 8]               0\n",
      "           Linear-13                   [-1, 10]              90\n",
      "================================================================\n",
      "Total params: 13,874\n",
      "Trainable params: 13,874\n",
      "Non-trainable params: 0\n",
      "----------------------------------------------------------------\n",
      "Input size (MB): 0.00\n",
      "Forward/backward pass size (MB): 1.07\n",
      "Params size (MB): 0.05\n",
      "Estimated Total Size (MB): 1.12\n",
      "----------------------------------------------------------------\n"
     ]
    }
   ],
   "source": [
    "model = Model().to(device)\n",
    "summary(model, input_size=(1, 28, 28))"
   ]
  },
  {
   "cell_type": "code",
   "execution_count": 6,
   "id": "19262921",
   "metadata": {},
   "outputs": [],
   "source": [
    "from tqdm import tqdm\n",
    "def train(model, device, train_loader, optimizer, epoch):\n",
    "    model.train()\n",
    "    pbar = tqdm(train_loader)\n",
    "    for batch_idx, (data, target) in enumerate(pbar):\n",
    "        data, target = data.to(device), target.to(device)\n",
    "        optimizer.zero_grad()\n",
    "        output = model(data)\n",
    "        loss = F.nll_loss(output, target)\n",
    "        loss.backward()\n",
    "        optimizer.step()\n",
    "        pbar.set_description(desc= f'loss={loss.item()} batch_id={batch_idx}')\n",
    "\n",
    "\n",
    "def test(model, device, test_loader):\n",
    "    model.eval()\n",
    "    test_loss = 0\n",
    "    correct = 0\n",
    "    with torch.no_grad():\n",
    "        for data, target in test_loader:\n",
    "            data, target = data.to(device), target.to(device)\n",
    "            output = model(data)\n",
    "            test_loss += F.nll_loss(output, target, reduction='sum').item()  # sum up batch loss\n",
    "            pred = output.argmax(dim=1, keepdim=True)  # get the index of the max log-probability\n",
    "            correct += pred.eq(target.view_as(pred)).sum().item()\n",
    "\n",
    "    test_loss /= len(test_loader.dataset)\n",
    "\n",
    "    print('\\nTest set: Average loss: {:.4f}, Accuracy: {}/{} ({:.0f}%)\\n'.format(\n",
    "        test_loss, correct, len(test_loader.dataset),\n",
    "        100. * correct / len(test_loader.dataset)))"
   ]
  },
  {
   "cell_type": "code",
   "execution_count": 7,
   "id": "6648a60e",
   "metadata": {},
   "outputs": [
    {
     "name": "stderr",
     "output_type": "stream",
     "text": [
      "loss=0.32482191920280457 batch_id=468: 100%|█████████████████████████████████████████| 469/469 [00:09<00:00, 48.73it/s]\n",
      "loss=0.17368453741073608 batch_id=468: 100%|█████████████████████████████████████████| 469/469 [00:08<00:00, 52.16it/s]\n",
      "loss=0.2197173833847046 batch_id=468: 100%|██████████████████████████████████████████| 469/469 [00:08<00:00, 53.19it/s]\n",
      "loss=0.08340262621641159 batch_id=468: 100%|█████████████████████████████████████████| 469/469 [00:08<00:00, 52.58it/s]\n",
      "loss=0.10924424976110458 batch_id=468: 100%|█████████████████████████████████████████| 469/469 [00:08<00:00, 54.70it/s]\n",
      "loss=0.047537386417388916 batch_id=468: 100%|████████████████████████████████████████| 469/469 [00:08<00:00, 52.59it/s]\n",
      "loss=0.07988161593675613 batch_id=468: 100%|█████████████████████████████████████████| 469/469 [00:08<00:00, 52.24it/s]\n",
      "loss=0.07534003257751465 batch_id=468: 100%|█████████████████████████████████████████| 469/469 [00:08<00:00, 52.27it/s]\n",
      "loss=0.028990058228373528 batch_id=468: 100%|████████████████████████████████████████| 469/469 [00:08<00:00, 53.64it/s]\n",
      "loss=0.02459132671356201 batch_id=468: 100%|█████████████████████████████████████████| 469/469 [00:08<00:00, 52.12it/s]\n",
      "loss=0.11497682332992554 batch_id=468: 100%|█████████████████████████████████████████| 469/469 [00:08<00:00, 52.18it/s]\n",
      "loss=0.07016899436712265 batch_id=468: 100%|█████████████████████████████████████████| 469/469 [00:08<00:00, 53.34it/s]\n",
      "loss=0.009992427192628384 batch_id=468: 100%|████████████████████████████████████████| 469/469 [00:08<00:00, 53.00it/s]\n",
      "loss=0.05463650822639465 batch_id=468: 100%|█████████████████████████████████████████| 469/469 [00:09<00:00, 51.64it/s]\n",
      "loss=0.0865972712635994 batch_id=468: 100%|██████████████████████████████████████████| 469/469 [00:08<00:00, 52.64it/s]\n",
      "loss=0.03782402724027634 batch_id=468: 100%|█████████████████████████████████████████| 469/469 [00:09<00:00, 52.02it/s]\n",
      "loss=0.09044332057237625 batch_id=468: 100%|█████████████████████████████████████████| 469/469 [00:08<00:00, 52.97it/s]\n",
      "loss=0.009392648935317993 batch_id=468: 100%|████████████████████████████████████████| 469/469 [00:08<00:00, 52.67it/s]\n"
     ]
    }
   ],
   "source": [
    "optimizer = optim.SGD(model.parameters(), lr=0.01, momentum=0.9)\n",
    "# optimizer = optim.Adam(model.parameters(), lr=0.001)\n",
    "\n",
    "for epoch in range(1, 19):\n",
    "    train(model, device, train_loader, optimizer, epoch)\n",
    "\n"
   ]
  },
  {
   "cell_type": "code",
   "execution_count": 8,
   "id": "46166ad4",
   "metadata": {},
   "outputs": [
    {
     "name": "stdout",
     "output_type": "stream",
     "text": [
      "\n",
      "Test set: Average loss: 0.0567, Accuracy: 9830/10000 (98%)\n",
      "\n"
     ]
    }
   ],
   "source": [
    "test(model, device, test_loader)"
   ]
  },
  {
   "cell_type": "code",
   "execution_count": null,
   "id": "23972d64",
   "metadata": {},
   "outputs": [],
   "source": []
  }
 ],
 "metadata": {
  "kernelspec": {
   "display_name": "tf",
   "language": "python",
   "name": "tf"
  },
  "language_info": {
   "codemirror_mode": {
    "name": "ipython",
    "version": 3
   },
   "file_extension": ".py",
   "mimetype": "text/x-python",
   "name": "python",
   "nbconvert_exporter": "python",
   "pygments_lexer": "ipython3",
   "version": "3.9.13"
  }
 },
 "nbformat": 4,
 "nbformat_minor": 5
}
